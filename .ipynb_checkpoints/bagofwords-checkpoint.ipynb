{
 "cells": [
  {
   "cell_type": "code",
   "execution_count": null,
   "id": "a494e66f-f5f2-439b-89b5-322ffcbba6d7",
   "metadata": {},
   "outputs": [],
   "source": [
    "# Python code to implement Bag of Words\n",
    "\n",
    "# step 1 - Import\n",
    "\n",
    "from sklearn.feature_extraction.text import CountVectorizer\n",
    "\n",
    "# Step 2\n",
    "# Sample documents\n",
    "documents = [\n",
    "\"Game of Thrones is an amazing tv series!\",\n",
    "\"Game of Thrones is the best tv series!\",\n",
    "\"Game of Thrones is so great\",\n",
    "\"Game of Thrones can be improved in its visuals\"\n",
    "]\n",
    "\n",
    "# Step 3\n",
    "# Create a CountVectorizer object\n",
    "vectorizer = CountVectorizer()\n",
    "\n",
    "# Step 4\n",
    "# Fit the vectorizer to the documents and transform them into a BoW matrix\n",
    "X = vectorizer.fit_transform(documents)\n",
    "\n",
    "# Step 5\n",
    "# Get the vocabulary (unique words) and the BoW matrix\n",
    "vocabulary = vectorizer.get_feature_names_out()\n",
    "bow_matrix = X.toarray()\n",
    "\n",
    "# Step 6\n",
    "# Display the vocabulary and the BoW matrix\n",
    "print(\"Vocabulary (Unique Words):\")\n",
    "print(vocabulary)\n",
    "\n",
    "print(\"\\nBag of Words Matrix:\")\n",
    "print(bow_matrix)"
   ]
  }
 ],
 "metadata": {
  "kernelspec": {
   "display_name": "Python 3 (ipykernel)",
   "language": "python",
   "name": "python3"
  },
  "language_info": {
   "codemirror_mode": {
    "name": "ipython",
    "version": 3
   },
   "file_extension": ".py",
   "mimetype": "text/x-python",
   "name": "python",
   "nbconvert_exporter": "python",
   "pygments_lexer": "ipython3",
   "version": "3.11.8"
  }
 },
 "nbformat": 4,
 "nbformat_minor": 5
}
