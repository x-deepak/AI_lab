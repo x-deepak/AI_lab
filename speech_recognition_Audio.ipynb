{
 "cells": [
  {
   "cell_type": "code",
   "execution_count": 2,
   "metadata": {
    "colab": {
     "base_uri": "https://localhost:8080/"
    },
    "id": "wx7YYvDp2vkl",
    "outputId": "8c0b6ee5-0d03-42a8-aa55-a5c17b977588",
    "scrolled": true
   },
   "outputs": [
    {
     "name": "stdout",
     "output_type": "stream",
     "text": [
      "Collecting SpeechRecognition\n",
      "  Downloading SpeechRecognition-3.10.4-py2.py3-none-any.whl.metadata (28 kB)\n",
      "Requirement already satisfied: requests>=2.26.0 in c:\\coding\\ai\\.venv\\lib\\site-packages (from SpeechRecognition) (2.32.3)\n",
      "Requirement already satisfied: typing-extensions in c:\\coding\\ai\\.venv\\lib\\site-packages (from SpeechRecognition) (4.12.1)\n",
      "Requirement already satisfied: charset-normalizer<4,>=2 in c:\\coding\\ai\\.venv\\lib\\site-packages (from requests>=2.26.0->SpeechRecognition) (3.3.2)\n",
      "Requirement already satisfied: idna<4,>=2.5 in c:\\coding\\ai\\.venv\\lib\\site-packages (from requests>=2.26.0->SpeechRecognition) (3.7)\n",
      "Requirement already satisfied: urllib3<3,>=1.21.1 in c:\\coding\\ai\\.venv\\lib\\site-packages (from requests>=2.26.0->SpeechRecognition) (2.2.1)\n",
      "Requirement already satisfied: certifi>=2017.4.17 in c:\\coding\\ai\\.venv\\lib\\site-packages (from requests>=2.26.0->SpeechRecognition) (2024.6.2)\n",
      "Downloading SpeechRecognition-3.10.4-py2.py3-none-any.whl (32.8 MB)\n",
      "   ---------------------------------------- 0.0/32.8 MB ? eta -:--:--\n",
      "   ---------------------------------------- 0.0/32.8 MB ? eta -:--:--\n",
      "   ---------------------------------------- 0.1/32.8 MB 1.6 MB/s eta 0:00:21\n",
      "   ---------------------------------------- 0.4/32.8 MB 3.2 MB/s eta 0:00:11\n",
      "    --------------------------------------- 0.7/32.8 MB 4.6 MB/s eta 0:00:07\n",
      "   - -------------------------------------- 1.5/32.8 MB 7.5 MB/s eta 0:00:05\n",
      "   --- ------------------------------------ 2.8/32.8 MB 11.1 MB/s eta 0:00:03\n",
      "   ---- ----------------------------------- 4.0/32.8 MB 13.5 MB/s eta 0:00:03\n",
      "   ------ --------------------------------- 5.6/32.8 MB 16.1 MB/s eta 0:00:02\n",
      "   -------- ------------------------------- 7.0/32.8 MB 17.9 MB/s eta 0:00:02\n",
      "   ---------- ----------------------------- 8.7/32.8 MB 19.8 MB/s eta 0:00:02\n",
      "   ------------ --------------------------- 10.3/32.8 MB 24.3 MB/s eta 0:00:01\n",
      "   -------------- ------------------------- 11.7/32.8 MB 31.2 MB/s eta 0:00:01\n",
      "   ---------------- ----------------------- 13.4/32.8 MB 34.4 MB/s eta 0:00:01\n",
      "   ----------------- ---------------------- 14.6/32.8 MB 34.6 MB/s eta 0:00:01\n",
      "   ------------------- -------------------- 15.9/32.8 MB 32.8 MB/s eta 0:00:01\n",
      "   ------------------- -------------------- 15.9/32.8 MB 32.8 MB/s eta 0:00:01\n",
      "   ------------------------ --------------- 20.3/32.8 MB 36.3 MB/s eta 0:00:01\n",
      "   -------------------------- ------------- 21.8/32.8 MB 36.3 MB/s eta 0:00:01\n",
      "   ---------------------------- ----------- 23.6/32.8 MB 34.6 MB/s eta 0:00:01\n",
      "   ------------------------------ --------- 25.2/32.8 MB 36.4 MB/s eta 0:00:01\n",
      "   --------------------------------- ------ 27.1/32.8 MB 43.7 MB/s eta 0:00:01\n",
      "   ----------------------------------- ---- 29.2/32.8 MB 38.5 MB/s eta 0:00:01\n",
      "   -------------------------------------- - 31.4/32.8 MB 38.5 MB/s eta 0:00:01\n",
      "   ---------------------------------------  32.8/32.8 MB 43.7 MB/s eta 0:00:01\n",
      "   ---------------------------------------  32.8/32.8 MB 43.7 MB/s eta 0:00:01\n",
      "   ---------------------------------------  32.8/32.8 MB 43.7 MB/s eta 0:00:01\n",
      "   ---------------------------------------- 32.8/32.8 MB 27.3 MB/s eta 0:00:00\n",
      "Installing collected packages: SpeechRecognition\n",
      "Successfully installed SpeechRecognition-3.10.4\n"
     ]
    }
   ],
   "source": [
    "!pip install SpeechRecognition"
   ]
  },
  {
   "cell_type": "code",
   "execution_count": 3,
   "metadata": {
    "colab": {
     "base_uri": "https://localhost:8080/"
    },
    "id": "DeeaMBKzi_Nk",
    "outputId": "e7e19bfb-87d6-4e0a-a383-1085937f83b9"
   },
   "outputs": [
    {
     "name": "stdout",
     "output_type": "stream",
     "text": [
      "Recognized text: hi hello\n"
     ]
    }
   ],
   "source": [
    "import speech_recognition as sr\n",
    "\n",
    "def recognize_speech(audio_file):\n",
    "    # Initialize the recognizer\n",
    "    recognizer = sr.Recognizer()\n",
    "\n",
    "    # Load audio file\n",
    "    with sr.AudioFile(audio_file) as source:\n",
    "        audio_data = recognizer.record(source)\n",
    "\n",
    "    # Recognize speech using Google Speech Recognition\n",
    "    try:\n",
    "        recognized_text = recognizer.recognize_google(audio_data)\n",
    "        print(\"Recognized text:\", recognized_text)\n",
    "    except sr.UnknownValueError:\n",
    "        print(\"Could not understand the audio\")\n",
    "    except sr.RequestError as e:\n",
    "        print(\"Error:\", e)\n",
    "\n",
    "if __name__ == \"__main__\":\n",
    "    # Specify the path to the audio file\n",
    "    audio_file_path = \"texttospeech.wav\"\n",
    "    # Call the function to recognize speech\n",
    "    recognize_speech(audio_file_path)\n"
   ]
  },
  {
   "cell_type": "code",
   "execution_count": null,
   "metadata": {},
   "outputs": [],
   "source": []
  }
 ],
 "metadata": {
  "colab": {
   "provenance": []
  },
  "kernelspec": {
   "display_name": "Python 3 (ipykernel)",
   "language": "python",
   "name": "python3"
  },
  "language_info": {
   "codemirror_mode": {
    "name": "ipython",
    "version": 3
   },
   "file_extension": ".py",
   "mimetype": "text/x-python",
   "name": "python",
   "nbconvert_exporter": "python",
   "pygments_lexer": "ipython3",
   "version": "3.11.8"
  }
 },
 "nbformat": 4,
 "nbformat_minor": 4
}
